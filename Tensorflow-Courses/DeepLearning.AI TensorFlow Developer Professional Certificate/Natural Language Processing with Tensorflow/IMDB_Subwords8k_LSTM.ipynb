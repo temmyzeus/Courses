{
  "nbformat": 4,
  "nbformat_minor": 0,
  "metadata": {
    "colab": {
      "name": "IMDB_Subwords8k_LSTM.ipynb",
      "provenance": [],
      "include_colab_link": true
    },
    "kernelspec": {
      "name": "python3",
      "display_name": "Python 3"
    },
    "language_info": {
      "name": "python"
    },
    "widgets": {
      "application/vnd.jupyter.widget-state+json": {
        "5e9eae13890f44608851db4b9f582362": {
          "model_module": "@jupyter-widgets/controls",
          "model_name": "HBoxModel",
          "model_module_version": "1.5.0",
          "state": {
            "_view_name": "HBoxView",
            "_dom_classes": [],
            "_model_name": "HBoxModel",
            "_view_module": "@jupyter-widgets/controls",
            "_model_module_version": "1.5.0",
            "_view_count": null,
            "_view_module_version": "1.5.0",
            "box_style": "",
            "layout": "IPY_MODEL_bd1455ee723d4d798ecfb80b7da57e91",
            "_model_module": "@jupyter-widgets/controls",
            "children": [
              "IPY_MODEL_a6abff89e4c741389ffb3c9f2537c4b9",
              "IPY_MODEL_a8aec6a85f374201897a2674ff8b7d57",
              "IPY_MODEL_453a612198644aa39c96958c69f8df92"
            ]
          }
        },
        "bd1455ee723d4d798ecfb80b7da57e91": {
          "model_module": "@jupyter-widgets/base",
          "model_name": "LayoutModel",
          "model_module_version": "1.2.0",
          "state": {
            "_view_name": "LayoutView",
            "grid_template_rows": null,
            "right": null,
            "justify_content": null,
            "_view_module": "@jupyter-widgets/base",
            "overflow": null,
            "_model_module_version": "1.2.0",
            "_view_count": null,
            "flex_flow": null,
            "width": null,
            "min_width": null,
            "border": null,
            "align_items": null,
            "bottom": null,
            "_model_module": "@jupyter-widgets/base",
            "top": null,
            "grid_column": null,
            "overflow_y": null,
            "overflow_x": null,
            "grid_auto_flow": null,
            "grid_area": null,
            "grid_template_columns": null,
            "flex": null,
            "_model_name": "LayoutModel",
            "justify_items": null,
            "grid_row": null,
            "max_height": null,
            "align_content": null,
            "visibility": null,
            "align_self": null,
            "height": null,
            "min_height": null,
            "padding": null,
            "grid_auto_rows": null,
            "grid_gap": null,
            "max_width": null,
            "order": null,
            "_view_module_version": "1.2.0",
            "grid_template_areas": null,
            "object_position": null,
            "object_fit": null,
            "grid_auto_columns": null,
            "margin": null,
            "display": null,
            "left": null
          }
        },
        "a6abff89e4c741389ffb3c9f2537c4b9": {
          "model_module": "@jupyter-widgets/controls",
          "model_name": "HTMLModel",
          "model_module_version": "1.5.0",
          "state": {
            "_view_name": "HTMLView",
            "style": "IPY_MODEL_cf71f52e158f462780d9eb559761b4f4",
            "_dom_classes": [],
            "description": "",
            "_model_name": "HTMLModel",
            "placeholder": "​",
            "_view_module": "@jupyter-widgets/controls",
            "_model_module_version": "1.5.0",
            "value": "Dl Completed...: 100%",
            "_view_count": null,
            "_view_module_version": "1.5.0",
            "description_tooltip": null,
            "_model_module": "@jupyter-widgets/controls",
            "layout": "IPY_MODEL_6501259e8bb74e8cba9c9683eeb4e0d4"
          }
        },
        "a8aec6a85f374201897a2674ff8b7d57": {
          "model_module": "@jupyter-widgets/controls",
          "model_name": "FloatProgressModel",
          "model_module_version": "1.5.0",
          "state": {
            "_view_name": "ProgressView",
            "style": "IPY_MODEL_af4880227da24821941ffc738dea8d0e",
            "_dom_classes": [],
            "description": "",
            "_model_name": "FloatProgressModel",
            "bar_style": "success",
            "max": 1,
            "_view_module": "@jupyter-widgets/controls",
            "_model_module_version": "1.5.0",
            "value": 1,
            "_view_count": null,
            "_view_module_version": "1.5.0",
            "orientation": "horizontal",
            "min": 0,
            "description_tooltip": null,
            "_model_module": "@jupyter-widgets/controls",
            "layout": "IPY_MODEL_4eaa02c2f27e4c90a124c0a4e5021daf"
          }
        },
        "453a612198644aa39c96958c69f8df92": {
          "model_module": "@jupyter-widgets/controls",
          "model_name": "HTMLModel",
          "model_module_version": "1.5.0",
          "state": {
            "_view_name": "HTMLView",
            "style": "IPY_MODEL_7733d7ab746c435e9e532d0964c9c793",
            "_dom_classes": [],
            "description": "",
            "_model_name": "HTMLModel",
            "placeholder": "​",
            "_view_module": "@jupyter-widgets/controls",
            "_model_module_version": "1.5.0",
            "value": " 1/1 [00:02&lt;00:00,  2.50s/ url]",
            "_view_count": null,
            "_view_module_version": "1.5.0",
            "description_tooltip": null,
            "_model_module": "@jupyter-widgets/controls",
            "layout": "IPY_MODEL_01873f3bbade4d9d804a191e46216f82"
          }
        },
        "cf71f52e158f462780d9eb559761b4f4": {
          "model_module": "@jupyter-widgets/controls",
          "model_name": "DescriptionStyleModel",
          "model_module_version": "1.5.0",
          "state": {
            "_view_name": "StyleView",
            "_model_name": "DescriptionStyleModel",
            "description_width": "",
            "_view_module": "@jupyter-widgets/base",
            "_model_module_version": "1.5.0",
            "_view_count": null,
            "_view_module_version": "1.2.0",
            "_model_module": "@jupyter-widgets/controls"
          }
        },
        "6501259e8bb74e8cba9c9683eeb4e0d4": {
          "model_module": "@jupyter-widgets/base",
          "model_name": "LayoutModel",
          "model_module_version": "1.2.0",
          "state": {
            "_view_name": "LayoutView",
            "grid_template_rows": null,
            "right": null,
            "justify_content": null,
            "_view_module": "@jupyter-widgets/base",
            "overflow": null,
            "_model_module_version": "1.2.0",
            "_view_count": null,
            "flex_flow": null,
            "width": null,
            "min_width": null,
            "border": null,
            "align_items": null,
            "bottom": null,
            "_model_module": "@jupyter-widgets/base",
            "top": null,
            "grid_column": null,
            "overflow_y": null,
            "overflow_x": null,
            "grid_auto_flow": null,
            "grid_area": null,
            "grid_template_columns": null,
            "flex": null,
            "_model_name": "LayoutModel",
            "justify_items": null,
            "grid_row": null,
            "max_height": null,
            "align_content": null,
            "visibility": null,
            "align_self": null,
            "height": null,
            "min_height": null,
            "padding": null,
            "grid_auto_rows": null,
            "grid_gap": null,
            "max_width": null,
            "order": null,
            "_view_module_version": "1.2.0",
            "grid_template_areas": null,
            "object_position": null,
            "object_fit": null,
            "grid_auto_columns": null,
            "margin": null,
            "display": null,
            "left": null
          }
        },
        "af4880227da24821941ffc738dea8d0e": {
          "model_module": "@jupyter-widgets/controls",
          "model_name": "ProgressStyleModel",
          "model_module_version": "1.5.0",
          "state": {
            "_view_name": "StyleView",
            "_model_name": "ProgressStyleModel",
            "description_width": "",
            "_view_module": "@jupyter-widgets/base",
            "_model_module_version": "1.5.0",
            "_view_count": null,
            "_view_module_version": "1.2.0",
            "bar_color": null,
            "_model_module": "@jupyter-widgets/controls"
          }
        },
        "4eaa02c2f27e4c90a124c0a4e5021daf": {
          "model_module": "@jupyter-widgets/base",
          "model_name": "LayoutModel",
          "model_module_version": "1.2.0",
          "state": {
            "_view_name": "LayoutView",
            "grid_template_rows": null,
            "right": null,
            "justify_content": null,
            "_view_module": "@jupyter-widgets/base",
            "overflow": null,
            "_model_module_version": "1.2.0",
            "_view_count": null,
            "flex_flow": null,
            "width": "20px",
            "min_width": null,
            "border": null,
            "align_items": null,
            "bottom": null,
            "_model_module": "@jupyter-widgets/base",
            "top": null,
            "grid_column": null,
            "overflow_y": null,
            "overflow_x": null,
            "grid_auto_flow": null,
            "grid_area": null,
            "grid_template_columns": null,
            "flex": null,
            "_model_name": "LayoutModel",
            "justify_items": null,
            "grid_row": null,
            "max_height": null,
            "align_content": null,
            "visibility": null,
            "align_self": null,
            "height": null,
            "min_height": null,
            "padding": null,
            "grid_auto_rows": null,
            "grid_gap": null,
            "max_width": null,
            "order": null,
            "_view_module_version": "1.2.0",
            "grid_template_areas": null,
            "object_position": null,
            "object_fit": null,
            "grid_auto_columns": null,
            "margin": null,
            "display": null,
            "left": null
          }
        },
        "7733d7ab746c435e9e532d0964c9c793": {
          "model_module": "@jupyter-widgets/controls",
          "model_name": "DescriptionStyleModel",
          "model_module_version": "1.5.0",
          "state": {
            "_view_name": "StyleView",
            "_model_name": "DescriptionStyleModel",
            "description_width": "",
            "_view_module": "@jupyter-widgets/base",
            "_model_module_version": "1.5.0",
            "_view_count": null,
            "_view_module_version": "1.2.0",
            "_model_module": "@jupyter-widgets/controls"
          }
        },
        "01873f3bbade4d9d804a191e46216f82": {
          "model_module": "@jupyter-widgets/base",
          "model_name": "LayoutModel",
          "model_module_version": "1.2.0",
          "state": {
            "_view_name": "LayoutView",
            "grid_template_rows": null,
            "right": null,
            "justify_content": null,
            "_view_module": "@jupyter-widgets/base",
            "overflow": null,
            "_model_module_version": "1.2.0",
            "_view_count": null,
            "flex_flow": null,
            "width": null,
            "min_width": null,
            "border": null,
            "align_items": null,
            "bottom": null,
            "_model_module": "@jupyter-widgets/base",
            "top": null,
            "grid_column": null,
            "overflow_y": null,
            "overflow_x": null,
            "grid_auto_flow": null,
            "grid_area": null,
            "grid_template_columns": null,
            "flex": null,
            "_model_name": "LayoutModel",
            "justify_items": null,
            "grid_row": null,
            "max_height": null,
            "align_content": null,
            "visibility": null,
            "align_self": null,
            "height": null,
            "min_height": null,
            "padding": null,
            "grid_auto_rows": null,
            "grid_gap": null,
            "max_width": null,
            "order": null,
            "_view_module_version": "1.2.0",
            "grid_template_areas": null,
            "object_position": null,
            "object_fit": null,
            "grid_auto_columns": null,
            "margin": null,
            "display": null,
            "left": null
          }
        },
        "5d34f069c58f44deb9088758a299972f": {
          "model_module": "@jupyter-widgets/controls",
          "model_name": "HBoxModel",
          "model_module_version": "1.5.0",
          "state": {
            "_view_name": "HBoxView",
            "_dom_classes": [],
            "_model_name": "HBoxModel",
            "_view_module": "@jupyter-widgets/controls",
            "_model_module_version": "1.5.0",
            "_view_count": null,
            "_view_module_version": "1.5.0",
            "box_style": "",
            "layout": "IPY_MODEL_6a7b0f9631e94a68823a53543a69d452",
            "_model_module": "@jupyter-widgets/controls",
            "children": [
              "IPY_MODEL_cbf29c52341449ed930652598ffb2399",
              "IPY_MODEL_dde3091a173a44eeacb969bac948c42e",
              "IPY_MODEL_e2f8245148d44c29800d63e3f700b047"
            ]
          }
        },
        "6a7b0f9631e94a68823a53543a69d452": {
          "model_module": "@jupyter-widgets/base",
          "model_name": "LayoutModel",
          "model_module_version": "1.2.0",
          "state": {
            "_view_name": "LayoutView",
            "grid_template_rows": null,
            "right": null,
            "justify_content": null,
            "_view_module": "@jupyter-widgets/base",
            "overflow": null,
            "_model_module_version": "1.2.0",
            "_view_count": null,
            "flex_flow": null,
            "width": null,
            "min_width": null,
            "border": null,
            "align_items": null,
            "bottom": null,
            "_model_module": "@jupyter-widgets/base",
            "top": null,
            "grid_column": null,
            "overflow_y": null,
            "overflow_x": null,
            "grid_auto_flow": null,
            "grid_area": null,
            "grid_template_columns": null,
            "flex": null,
            "_model_name": "LayoutModel",
            "justify_items": null,
            "grid_row": null,
            "max_height": null,
            "align_content": null,
            "visibility": null,
            "align_self": null,
            "height": null,
            "min_height": null,
            "padding": null,
            "grid_auto_rows": null,
            "grid_gap": null,
            "max_width": null,
            "order": null,
            "_view_module_version": "1.2.0",
            "grid_template_areas": null,
            "object_position": null,
            "object_fit": null,
            "grid_auto_columns": null,
            "margin": null,
            "display": null,
            "left": null
          }
        },
        "cbf29c52341449ed930652598ffb2399": {
          "model_module": "@jupyter-widgets/controls",
          "model_name": "HTMLModel",
          "model_module_version": "1.5.0",
          "state": {
            "_view_name": "HTMLView",
            "style": "IPY_MODEL_ea6c7692c1f4456ba5a318e00a539271",
            "_dom_classes": [],
            "description": "",
            "_model_name": "HTMLModel",
            "placeholder": "​",
            "_view_module": "@jupyter-widgets/controls",
            "_model_module_version": "1.5.0",
            "value": "Dl Size...: 100%",
            "_view_count": null,
            "_view_module_version": "1.5.0",
            "description_tooltip": null,
            "_model_module": "@jupyter-widgets/controls",
            "layout": "IPY_MODEL_661d628d42684909b344f971440a7003"
          }
        },
        "dde3091a173a44eeacb969bac948c42e": {
          "model_module": "@jupyter-widgets/controls",
          "model_name": "FloatProgressModel",
          "model_module_version": "1.5.0",
          "state": {
            "_view_name": "ProgressView",
            "style": "IPY_MODEL_9ea1fc327316466884984c96835a49eb",
            "_dom_classes": [],
            "description": "",
            "_model_name": "FloatProgressModel",
            "bar_style": "success",
            "max": 1,
            "_view_module": "@jupyter-widgets/controls",
            "_model_module_version": "1.5.0",
            "value": 1,
            "_view_count": null,
            "_view_module_version": "1.5.0",
            "orientation": "horizontal",
            "min": 0,
            "description_tooltip": null,
            "_model_module": "@jupyter-widgets/controls",
            "layout": "IPY_MODEL_2c94b8e575a843be8534a8baf6fa005b"
          }
        },
        "e2f8245148d44c29800d63e3f700b047": {
          "model_module": "@jupyter-widgets/controls",
          "model_name": "HTMLModel",
          "model_module_version": "1.5.0",
          "state": {
            "_view_name": "HTMLView",
            "style": "IPY_MODEL_e49c0059a34a43fb89e45f895f81e57e",
            "_dom_classes": [],
            "description": "",
            "_model_name": "HTMLModel",
            "placeholder": "​",
            "_view_module": "@jupyter-widgets/controls",
            "_model_module_version": "1.5.0",
            "value": " 80/80 [00:02&lt;00:00, 52.50 MiB/s]",
            "_view_count": null,
            "_view_module_version": "1.5.0",
            "description_tooltip": null,
            "_model_module": "@jupyter-widgets/controls",
            "layout": "IPY_MODEL_1c08398f52424f83bc72639527d62333"
          }
        },
        "ea6c7692c1f4456ba5a318e00a539271": {
          "model_module": "@jupyter-widgets/controls",
          "model_name": "DescriptionStyleModel",
          "model_module_version": "1.5.0",
          "state": {
            "_view_name": "StyleView",
            "_model_name": "DescriptionStyleModel",
            "description_width": "",
            "_view_module": "@jupyter-widgets/base",
            "_model_module_version": "1.5.0",
            "_view_count": null,
            "_view_module_version": "1.2.0",
            "_model_module": "@jupyter-widgets/controls"
          }
        },
        "661d628d42684909b344f971440a7003": {
          "model_module": "@jupyter-widgets/base",
          "model_name": "LayoutModel",
          "model_module_version": "1.2.0",
          "state": {
            "_view_name": "LayoutView",
            "grid_template_rows": null,
            "right": null,
            "justify_content": null,
            "_view_module": "@jupyter-widgets/base",
            "overflow": null,
            "_model_module_version": "1.2.0",
            "_view_count": null,
            "flex_flow": null,
            "width": null,
            "min_width": null,
            "border": null,
            "align_items": null,
            "bottom": null,
            "_model_module": "@jupyter-widgets/base",
            "top": null,
            "grid_column": null,
            "overflow_y": null,
            "overflow_x": null,
            "grid_auto_flow": null,
            "grid_area": null,
            "grid_template_columns": null,
            "flex": null,
            "_model_name": "LayoutModel",
            "justify_items": null,
            "grid_row": null,
            "max_height": null,
            "align_content": null,
            "visibility": null,
            "align_self": null,
            "height": null,
            "min_height": null,
            "padding": null,
            "grid_auto_rows": null,
            "grid_gap": null,
            "max_width": null,
            "order": null,
            "_view_module_version": "1.2.0",
            "grid_template_areas": null,
            "object_position": null,
            "object_fit": null,
            "grid_auto_columns": null,
            "margin": null,
            "display": null,
            "left": null
          }
        },
        "9ea1fc327316466884984c96835a49eb": {
          "model_module": "@jupyter-widgets/controls",
          "model_name": "ProgressStyleModel",
          "model_module_version": "1.5.0",
          "state": {
            "_view_name": "StyleView",
            "_model_name": "ProgressStyleModel",
            "description_width": "",
            "_view_module": "@jupyter-widgets/base",
            "_model_module_version": "1.5.0",
            "_view_count": null,
            "_view_module_version": "1.2.0",
            "bar_color": null,
            "_model_module": "@jupyter-widgets/controls"
          }
        },
        "2c94b8e575a843be8534a8baf6fa005b": {
          "model_module": "@jupyter-widgets/base",
          "model_name": "LayoutModel",
          "model_module_version": "1.2.0",
          "state": {
            "_view_name": "LayoutView",
            "grid_template_rows": null,
            "right": null,
            "justify_content": null,
            "_view_module": "@jupyter-widgets/base",
            "overflow": null,
            "_model_module_version": "1.2.0",
            "_view_count": null,
            "flex_flow": null,
            "width": "20px",
            "min_width": null,
            "border": null,
            "align_items": null,
            "bottom": null,
            "_model_module": "@jupyter-widgets/base",
            "top": null,
            "grid_column": null,
            "overflow_y": null,
            "overflow_x": null,
            "grid_auto_flow": null,
            "grid_area": null,
            "grid_template_columns": null,
            "flex": null,
            "_model_name": "LayoutModel",
            "justify_items": null,
            "grid_row": null,
            "max_height": null,
            "align_content": null,
            "visibility": null,
            "align_self": null,
            "height": null,
            "min_height": null,
            "padding": null,
            "grid_auto_rows": null,
            "grid_gap": null,
            "max_width": null,
            "order": null,
            "_view_module_version": "1.2.0",
            "grid_template_areas": null,
            "object_position": null,
            "object_fit": null,
            "grid_auto_columns": null,
            "margin": null,
            "display": null,
            "left": null
          }
        },
        "e49c0059a34a43fb89e45f895f81e57e": {
          "model_module": "@jupyter-widgets/controls",
          "model_name": "DescriptionStyleModel",
          "model_module_version": "1.5.0",
          "state": {
            "_view_name": "StyleView",
            "_model_name": "DescriptionStyleModel",
            "description_width": "",
            "_view_module": "@jupyter-widgets/base",
            "_model_module_version": "1.5.0",
            "_view_count": null,
            "_view_module_version": "1.2.0",
            "_model_module": "@jupyter-widgets/controls"
          }
        },
        "1c08398f52424f83bc72639527d62333": {
          "model_module": "@jupyter-widgets/base",
          "model_name": "LayoutModel",
          "model_module_version": "1.2.0",
          "state": {
            "_view_name": "LayoutView",
            "grid_template_rows": null,
            "right": null,
            "justify_content": null,
            "_view_module": "@jupyter-widgets/base",
            "overflow": null,
            "_model_module_version": "1.2.0",
            "_view_count": null,
            "flex_flow": null,
            "width": null,
            "min_width": null,
            "border": null,
            "align_items": null,
            "bottom": null,
            "_model_module": "@jupyter-widgets/base",
            "top": null,
            "grid_column": null,
            "overflow_y": null,
            "overflow_x": null,
            "grid_auto_flow": null,
            "grid_area": null,
            "grid_template_columns": null,
            "flex": null,
            "_model_name": "LayoutModel",
            "justify_items": null,
            "grid_row": null,
            "max_height": null,
            "align_content": null,
            "visibility": null,
            "align_self": null,
            "height": null,
            "min_height": null,
            "padding": null,
            "grid_auto_rows": null,
            "grid_gap": null,
            "max_width": null,
            "order": null,
            "_view_module_version": "1.2.0",
            "grid_template_areas": null,
            "object_position": null,
            "object_fit": null,
            "grid_auto_columns": null,
            "margin": null,
            "display": null,
            "left": null
          }
        }
      }
    }
  },
  "cells": [
    {
      "cell_type": "markdown",
      "metadata": {
        "id": "view-in-github",
        "colab_type": "text"
      },
      "source": [
        "<a href=\"https://colab.research.google.com/github/temmyzeus/Tensorflow-Courses/blob/master/Tensorflow-Courses/DeepLearning.AI%20TensorFlow%20Developer%20Professional%20Certificate/Natural%20Language%20Processing%20with%20Tensorflow/IMDB_Subwords8k_LSTM.ipynb\" target=\"_parent\"><img src=\"https://colab.research.google.com/assets/colab-badge.svg\" alt=\"Open In Colab\"/></a>"
      ]
    },
    {
      "cell_type": "code",
      "metadata": {
        "id": "m65aO4yhBIT1"
      },
      "source": [
        "from typing import Union, Dict\n",
        "import numpy as np\n",
        "import matplotlib.pyplot as plt\n",
        "import tensorflow_datasets as tfds\n",
        "import tensorflow as tf\n",
        "from tensorflow.keras.models import Sequential\n",
        "from tensorflow.keras.layers import Embedding, Dense, GlobalAveragePooling1D"
      ],
      "execution_count": null,
      "outputs": []
    },
    {
      "cell_type": "code",
      "metadata": {
        "colab": {
          "base_uri": "https://localhost:8080/",
          "height": 350,
          "referenced_widgets": [
            "5e9eae13890f44608851db4b9f582362",
            "bd1455ee723d4d798ecfb80b7da57e91",
            "a6abff89e4c741389ffb3c9f2537c4b9",
            "a8aec6a85f374201897a2674ff8b7d57",
            "453a612198644aa39c96958c69f8df92",
            "cf71f52e158f462780d9eb559761b4f4",
            "6501259e8bb74e8cba9c9683eeb4e0d4",
            "af4880227da24821941ffc738dea8d0e",
            "4eaa02c2f27e4c90a124c0a4e5021daf",
            "7733d7ab746c435e9e532d0964c9c793",
            "01873f3bbade4d9d804a191e46216f82",
            "5d34f069c58f44deb9088758a299972f",
            "6a7b0f9631e94a68823a53543a69d452",
            "cbf29c52341449ed930652598ffb2399",
            "dde3091a173a44eeacb969bac948c42e",
            "e2f8245148d44c29800d63e3f700b047",
            "ea6c7692c1f4456ba5a318e00a539271",
            "661d628d42684909b344f971440a7003",
            "9ea1fc327316466884984c96835a49eb",
            "2c94b8e575a843be8534a8baf6fa005b",
            "e49c0059a34a43fb89e45f895f81e57e",
            "1c08398f52424f83bc72639527d62333",
            "3643995111fa4d3091367ca3029b71c7",
            "7d1d5234284b4cff962cd1465d7b6c6f",
            "7f6b0949271946f6a3352919c0c688c5",
            "78f3eb3ec00440bf9cb83c8f7b720429",
            "651a5aaf0d3543ce8bb31332eaf172eb",
            "fdf2afa902bc4c52b4ecfc16f09e06ef"
          ]
        },
        "id": "9Zr1lnRZCiHx",
        "outputId": "d2cb8239-08b8-485b-9773-1b2ed52eba25"
      },
      "source": [
        "imdb, info = tfds.load(\n",
        "    'imdb_reviews/subwords8k',\n",
        "    with_info=True,\n",
        "    as_supervised=True\n",
        ")"
      ],
      "execution_count": null,
      "outputs": [
        {
          "output_type": "stream",
          "name": "stderr",
          "text": [
            "WARNING:absl:TFDS datasets with text encoding are deprecated and will be removed in a future version. Instead, you should use the plain text version and tokenize the text using `tensorflow_text` (See: https://www.tensorflow.org/tutorials/tensorflow_text/intro#tfdata_example)\n"
          ]
        },
        {
          "output_type": "stream",
          "name": "stdout",
          "text": [
            "\u001b[1mDownloading and preparing dataset imdb_reviews/subwords8k/1.0.0 (download: 80.23 MiB, generated: Unknown size, total: 80.23 MiB) to /root/tensorflow_datasets/imdb_reviews/subwords8k/1.0.0...\u001b[0m\n"
          ]
        },
        {
          "output_type": "display_data",
          "data": {
            "application/vnd.jupyter.widget-view+json": {
              "model_id": "5e9eae13890f44608851db4b9f582362",
              "version_minor": 0,
              "version_major": 2
            },
            "text/plain": [
              "Dl Completed...: 0 url [00:00, ? url/s]"
            ]
          },
          "metadata": {}
        },
        {
          "output_type": "display_data",
          "data": {
            "application/vnd.jupyter.widget-view+json": {
              "model_id": "5d34f069c58f44deb9088758a299972f",
              "version_minor": 0,
              "version_major": 2
            },
            "text/plain": [
              "Dl Size...: 0 MiB [00:00, ? MiB/s]"
            ]
          },
          "metadata": {}
        },
        {
          "output_type": "stream",
          "name": "stdout",
          "text": [
            "\n",
            "\n"
          ]
        },
        {
          "output_type": "display_data",
          "data": {
            "application/vnd.jupyter.widget-view+json": {
              "model_id": "3643995111fa4d3091367ca3029b71c7",
              "version_minor": 0,
              "version_major": 2
            },
            "text/plain": [
              "0 examples [00:00, ? examples/s]"
            ]
          },
          "metadata": {}
        },
        {
          "output_type": "stream",
          "name": "stdout",
          "text": [
            "Shuffling and writing examples to /root/tensorflow_datasets/imdb_reviews/subwords8k/1.0.0.incompleteBMESR1/imdb_reviews-train.tfrecord\n"
          ]
        },
        {
          "output_type": "display_data",
          "data": {
            "application/vnd.jupyter.widget-view+json": {
              "model_id": "7d1d5234284b4cff962cd1465d7b6c6f",
              "version_minor": 0,
              "version_major": 2
            },
            "text/plain": [
              "  0%|          | 0/25000 [00:00<?, ? examples/s]"
            ]
          },
          "metadata": {}
        },
        {
          "output_type": "display_data",
          "data": {
            "application/vnd.jupyter.widget-view+json": {
              "model_id": "7f6b0949271946f6a3352919c0c688c5",
              "version_minor": 0,
              "version_major": 2
            },
            "text/plain": [
              "0 examples [00:00, ? examples/s]"
            ]
          },
          "metadata": {}
        },
        {
          "output_type": "stream",
          "name": "stdout",
          "text": [
            "Shuffling and writing examples to /root/tensorflow_datasets/imdb_reviews/subwords8k/1.0.0.incompleteBMESR1/imdb_reviews-test.tfrecord\n"
          ]
        },
        {
          "output_type": "display_data",
          "data": {
            "application/vnd.jupyter.widget-view+json": {
              "model_id": "78f3eb3ec00440bf9cb83c8f7b720429",
              "version_minor": 0,
              "version_major": 2
            },
            "text/plain": [
              "  0%|          | 0/25000 [00:00<?, ? examples/s]"
            ]
          },
          "metadata": {}
        },
        {
          "output_type": "display_data",
          "data": {
            "application/vnd.jupyter.widget-view+json": {
              "model_id": "651a5aaf0d3543ce8bb31332eaf172eb",
              "version_minor": 0,
              "version_major": 2
            },
            "text/plain": [
              "0 examples [00:00, ? examples/s]"
            ]
          },
          "metadata": {}
        },
        {
          "output_type": "stream",
          "name": "stdout",
          "text": [
            "Shuffling and writing examples to /root/tensorflow_datasets/imdb_reviews/subwords8k/1.0.0.incompleteBMESR1/imdb_reviews-unsupervised.tfrecord\n"
          ]
        },
        {
          "output_type": "display_data",
          "data": {
            "application/vnd.jupyter.widget-view+json": {
              "model_id": "fdf2afa902bc4c52b4ecfc16f09e06ef",
              "version_minor": 0,
              "version_major": 2
            },
            "text/plain": [
              "  0%|          | 0/50000 [00:00<?, ? examples/s]"
            ]
          },
          "metadata": {}
        },
        {
          "output_type": "stream",
          "name": "stderr",
          "text": [
            "WARNING:absl:Dataset is using deprecated text encoder API which will be removed soon. Please use the plain_text version of the dataset and migrate to `tensorflow_text`.\n"
          ]
        },
        {
          "output_type": "stream",
          "name": "stdout",
          "text": [
            "\u001b[1mDataset imdb_reviews downloaded and prepared to /root/tensorflow_datasets/imdb_reviews/subwords8k/1.0.0. Subsequent calls will reuse this data.\u001b[0m\n"
          ]
        }
      ]
    },
    {
      "cell_type": "code",
      "metadata": {
        "id": "FvmnonsJCoqE"
      },
      "source": [
        "train = imdb['train']\n",
        "test = imdb['test']\n",
        "# Get Subword Text Encoder\n",
        "tokenizer = info.features['text'].encoder"
      ],
      "execution_count": null,
      "outputs": []
    },
    {
      "cell_type": "code",
      "metadata": {
        "colab": {
          "base_uri": "https://localhost:8080/"
        },
        "id": "afi-8kRkHR5W",
        "outputId": "6e1ffe67-714f-46c0-8bf8-6c934cb5896e"
      },
      "source": [
        "# convert sample_tokens to text\n",
        "sample_text = 'I\\'m going to be a very good ML Engineer'\n",
        "sample_tokens = tokenizer.encode(sample_text)\n",
        "\n",
        "print(tokenizer.encode(sample_text), end='\\n\\n')\n",
        "print(tokenizer.decode(sample_tokens))"
      ],
      "execution_count": null,
      "outputs": [
        {
          "output_type": "stream",
          "name": "stdout",
          "text": [
            "[8002, 7968, 111, 215, 7, 35, 4, 67, 74, 8006, 3780, 1844, 1004, 1225, 8043]\n",
            "\n",
            "I'm going to be a very good ML Engineer\n"
          ]
        }
      ]
    },
    {
      "cell_type": "code",
      "metadata": {
        "colab": {
          "base_uri": "https://localhost:8080/",
          "height": 316
        },
        "id": "aQC7vbrTcGiB",
        "outputId": "92c8b7d0-0c6b-4845-a5d7-36b262713d45"
      },
      "source": [
        "# Getting an Idea of teh distribution of token lengths\n",
        "train_lens = np.array([len(_[0]) for _ in train])\n",
        "print('Min Len :', np.min(train_lens))\n",
        "print('Max Len: ', np.max(train_lens))\n",
        "# Getting a good sense of the middle point, median seems better here\n",
        "print('Median Len', np.median(train_lens))\n",
        "plt.hist(train_lens, bins=30)\n",
        "plt.show()"
      ],
      "execution_count": null,
      "outputs": [
        {
          "output_type": "stream",
          "name": "stdout",
          "text": [
            "Min Len : 11\n",
            "Max Len:  3944\n",
            "Median Len 253.0\n"
          ]
        },
        {
          "output_type": "display_data",
          "data": {
            "image/png": "[encoded data removed]",
            "text/plain": [
              "<Figure size 432x288 with 1 Axes>"
            ]
          },
          "metadata": {
            "needs_background": "light"
          }
        }
      ]
    },
    {
      "cell_type": "code",
      "metadata": {
        "id": "2AWMNfaIfIok"
      },
      "source": [
        "vocab_size = tokenizer.vocab_size\n",
        "output_dim = 20\n",
        "input_length = 500\n",
        "BATCH_SIZE = 64\n",
        "BUFFER_SIZE = 10000\n",
        "EPOCHS = 20"
      ],
      "execution_count": null,
      "outputs": []
    },
    {
      "cell_type": "code",
      "metadata": {
        "id": "EuSo3lDIjMyw"
      },
      "source": [
        "train_ds = train.shuffle(buffer_size=BUFFER_SIZE)\n",
        "train_padded = train_ds.padded_batch(\n",
        "    batch_size=BATCH_SIZE,\n",
        "    padded_shapes=tf.compat.v1.data.get_output_shapes(train)\n",
        ")\n",
        "\n",
        "test_padded = test.padded_batch(\n",
        "    batch_size=BATCH_SIZE,\n",
        "    padded_shapes=tf.compat.v1.data.get_output_shapes(test)\n",
        ")"
      ],
      "execution_count": null,
      "outputs": []
    },
    {
      "cell_type": "code",
      "metadata": {
        "id": "1snCHaTDe7r7"
      },
      "source": [
        "[len(_[0][0]) for _ in train_padded]"
      ],
      "execution_count": null,
      "outputs": []
    },
    {
      "cell_type": "code",
      "metadata": {
        "id": "o6Zv42opKuRH"
      },
      "source": [
        "model = Sequential([\n",
        "    Embedding(input_dim=vocab_size, output_dim=output_dim, input_length=input_length) ,\n",
        "    GlobalAveragePooling1D(),\n",
        "    Dense(10, activation='relu'),\n",
        "    Dense(1, activation='sigmoid')\n",
        "], name='IMDB_CLassifier')"
      ],
      "execution_count": null,
      "outputs": []
    },
    {
      "cell_type": "code",
      "metadata": {
        "id": "eIqq-NooQk-0",
        "colab": {
          "base_uri": "https://localhost:8080/"
        },
        "outputId": "38cf33e7-ee55-49b7-a3bb-72c5425abba4"
      },
      "source": [
        "model.compile(\n",
        "    loss='binary_crossentropy',\n",
        "    optimizer='rmsprop',\n",
        "    metrics=['accuracy']\n",
        ")\n",
        "history = model.fit(\n",
        "    train_padded,\n",
        "    validation_data=test_padded,\n",
        "    epochs = EPOCHS\n",
        ")"
      ],
      "execution_count": null,
      "outputs": [
        {
          "output_type": "stream",
          "name": "stdout",
          "text": [
            "Epoch 1/20\n",
            "391/391 [==============================] - 11s 23ms/step - loss: 0.6844 - accuracy: 0.6213 - val_loss: 0.6665 - val_accuracy: 0.7538\n",
            "Epoch 2/20\n",
            "391/391 [==============================] - 10s 24ms/step - loss: 0.6232 - accuracy: 0.7573 - val_loss: 0.5790 - val_accuracy: 0.7884\n",
            "Epoch 3/20\n",
            "391/391 [==============================] - 9s 22ms/step - loss: 0.5150 - accuracy: 0.8216 - val_loss: 0.4776 - val_accuracy: 0.8249\n",
            "Epoch 4/20\n",
            "391/391 [==============================] - 10s 23ms/step - loss: 0.4132 - accuracy: 0.8584 - val_loss: 0.4010 - val_accuracy: 0.8548\n",
            "Epoch 5/20\n",
            "391/391 [==============================] - 9s 23ms/step - loss: 0.3451 - accuracy: 0.8776 - val_loss: 0.3718 - val_accuracy: 0.8438\n",
            "Epoch 6/20\n",
            "391/391 [==============================] - 9s 22ms/step - loss: 0.3031 - accuracy: 0.8909 - val_loss: 0.3380 - val_accuracy: 0.8677\n",
            "Epoch 7/20\n",
            "391/391 [==============================] - 10s 23ms/step - loss: 0.2749 - accuracy: 0.9021 - val_loss: 0.3165 - val_accuracy: 0.8771\n",
            "Epoch 8/20\n",
            "391/391 [==============================] - 10s 23ms/step - loss: 0.2554 - accuracy: 0.9084 - val_loss: 0.3190 - val_accuracy: 0.8714\n",
            "Epoch 9/20\n",
            "391/391 [==============================] - 10s 24ms/step - loss: 0.2402 - accuracy: 0.9133 - val_loss: 0.3145 - val_accuracy: 0.8760\n",
            "Epoch 10/20\n",
            "391/391 [==============================] - 10s 23ms/step - loss: 0.2282 - accuracy: 0.9179 - val_loss: 0.3227 - val_accuracy: 0.8667\n",
            "Epoch 11/20\n",
            "391/391 [==============================] - 9s 23ms/step - loss: 0.2160 - accuracy: 0.9227 - val_loss: 0.3323 - val_accuracy: 0.8656\n",
            "Epoch 12/20\n",
            "391/391 [==============================] - 9s 23ms/step - loss: 0.2061 - accuracy: 0.9260 - val_loss: 0.3101 - val_accuracy: 0.8794\n",
            "Epoch 13/20\n",
            "391/391 [==============================] - 9s 23ms/step - loss: 0.1988 - accuracy: 0.9298 - val_loss: 0.3066 - val_accuracy: 0.8837\n",
            "Epoch 14/20\n",
            "391/391 [==============================] - 9s 23ms/step - loss: 0.1916 - accuracy: 0.9324 - val_loss: 0.3161 - val_accuracy: 0.8802\n",
            "Epoch 15/20\n",
            "391/391 [==============================] - 10s 23ms/step - loss: 0.1857 - accuracy: 0.9340 - val_loss: 0.3148 - val_accuracy: 0.8806\n",
            "Epoch 16/20\n",
            "391/391 [==============================] - 12s 29ms/step - loss: 0.1797 - accuracy: 0.9372 - val_loss: 0.3134 - val_accuracy: 0.8845\n",
            "Epoch 17/20\n",
            "391/391 [==============================] - 10s 24ms/step - loss: 0.1744 - accuracy: 0.9401 - val_loss: 0.3177 - val_accuracy: 0.8810\n",
            "Epoch 18/20\n",
            "391/391 [==============================] - 10s 23ms/step - loss: 0.1686 - accuracy: 0.9418 - val_loss: 0.3215 - val_accuracy: 0.8836\n",
            "Epoch 19/20\n",
            "391/391 [==============================] - 9s 23ms/step - loss: 0.1633 - accuracy: 0.9448 - val_loss: 0.3337 - val_accuracy: 0.8778\n",
            "Epoch 20/20\n",
            "391/391 [==============================] - 10s 24ms/step - loss: 0.1596 - accuracy: 0.9438 - val_loss: 0.3316 - val_accuracy: 0.8816\n"
          ]
        }
      ]
    },
    {
      "cell_type": "code",
      "metadata": {
        "id": "U_f9Ac9gT71w",
        "colab": {
          "base_uri": "https://localhost:8080/"
        },
        "outputId": "d0c6929d-2e40-48ca-da34-1c42b0b1f91a"
      },
      "source": [
        "history.history.keys()"
      ],
      "execution_count": null,
      "outputs": [
        {
          "output_type": "execute_result",
          "data": {
            "text/plain": [
              "dict_keys(['loss', 'accuracy', 'val_loss', 'val_accuracy'])"
            ]
          },
          "metadata": {},
          "execution_count": 31
        }
      ]
    },
    {
      "cell_type": "code",
      "metadata": {
        "id": "QLFH0oDJSwfO",
        "colab": {
          "base_uri": "https://localhost:8080/",
          "height": 320
        },
        "outputId": "75375b80-2dac-44b9-8fef-4d0eb401c02b"
      },
      "source": [
        "def plot_loss_acc(history: Union[tf.keras.callbacks.History, Dict]):\n",
        "    if isinstance(history, tf.keras.callbacks.History):\n",
        "        history = history.history\n",
        "    elif isinstance(history, dict):\n",
        "        pass\n",
        "    else:\n",
        "        raise TypeError\n",
        "\n",
        "    epochs_axis = list(map(int, list(range(1, len(history['loss'])+1))))\n",
        "    plt.figure(figsize=(15, 5))\n",
        "    ax1 = plt.subplot(1, 2, 1)\n",
        "    ax2 = plt.subplot(1, 2, 2)\n",
        "    ax1.plot(epochs_axis, history['loss'], color='orange', label='Train Loss')\n",
        "    ax1.plot(epochs_axis, history['val_loss'], color='b', label='Val Loss')\n",
        "    ax1.set_xticks(ticks=epochs_axis)\n",
        "    ax1.legend()\n",
        "\n",
        "    ax2.plot(epochs_axis, history['accuracy'], color='orange', label='Train Accuracy')\n",
        "    ax2.plot(epochs_axis, history['val_accuracy'], color='b', label='Val Accuracy')\n",
        "    ax2.set_xticks(ticks=epochs_axis)\n",
        "    ax2.legend()\n",
        "    plt.show()\n",
        "\n",
        "plot_loss_acc(history)"
      ],
      "execution_count": null,
      "outputs": [
        {
          "output_type": "display_data",
          "data": {
            "image/png": "[encoded data removed]",
            "text/plain": [
              "<Figure size 1080x360 with 2 Axes>"
            ]
          },
          "metadata": {
            "needs_background": "light"
          }
        }
      ]
    },
    {
      "cell_type": "code",
      "metadata": {
        "id": "TNQZqUWSUfgQ"
      },
      "source": [
        ""
      ],
      "execution_count": null,
      "outputs": []
    }
  ]
}