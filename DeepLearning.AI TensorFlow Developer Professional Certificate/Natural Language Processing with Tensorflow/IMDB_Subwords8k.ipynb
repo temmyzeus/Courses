{
  "nbformat": 4,
  "nbformat_minor": 0,
  "metadata": {
    "colab": {
      "name": "IMDB_Subwords8k.ipynb",
      "provenance": [],
      "authorship_tag": "ABX9TyOp5KkjhJQifZHQOrE95T6m",
      "include_colab_link": true
    },
    "kernelspec": {
      "name": "python3",
      "display_name": "Python 3"
    },
    "language_info": {
      "name": "python"
    }
  },
  "cells": [
    {
      "cell_type": "markdown",
      "metadata": {
        "id": "view-in-github",
        "colab_type": "text"
      },
      "source": [
        "<a href=\"https://colab.research.google.com/github/temmyzeus/Tensorflow-Courses/blob/master/DeepLearning.AI%20TensorFlow%20Developer%20Professional%20Certificate/Natural%20Language%20Processing%20with%20Tensorflow/IMDB_Subwords8k.ipynb\" target=\"_parent\"><img src=\"https://colab.research.google.com/assets/colab-badge.svg\" alt=\"Open In Colab\"/></a>"
      ]
    },
    {
      "cell_type": "code",
      "metadata": {
        "id": "m65aO4yhBIT1"
      },
      "source": [
        "import tensorflow_datasets as tfds"
      ],
      "execution_count": 1,
      "outputs": []
    },
    {
      "cell_type": "code",
      "metadata": {
        "colab": {
          "base_uri": "https://localhost:8080/"
        },
        "id": "9Zr1lnRZCiHx",
        "outputId": "4c50327b-defd-49c3-b478-a257dd0c96e7"
      },
      "source": [
        "imdb, info = tfds.load(\n",
        "    'imdb_reviews/subwords8k',\n",
        "    with_info=True,\n",
        "    as_supervised=True\n",
        ")"
      ],
      "execution_count": 5,
      "outputs": [
        {
          "output_type": "stream",
          "name": "stderr",
          "text": [
            "WARNING:absl:TFDS datasets with text encoding are deprecated and will be removed in a future version. Instead, you should use the plain text version and tokenize the text using `tensorflow_text` (See: https://www.tensorflow.org/tutorials/tensorflow_text/intro#tfdata_example)\n"
          ]
        }
      ]
    },
    {
      "cell_type": "code",
      "metadata": {
        "id": "FvmnonsJCoqE"
      },
      "source": [
        "train = imdb['train']\n",
        "test = imdb['test']\n",
        "# Get Subword Text Encoder\n",
        "encoder = info.features['text'].encoder"
      ],
      "execution_count": 7,
      "outputs": []
    },
    {
      "cell_type": "code",
      "metadata": {
        "colab": {
          "base_uri": "https://localhost:8080/"
        },
        "id": "QcCsIewjHHSP",
        "outputId": "23620e8b-33f8-4a14-c2f9-ffe7a9f788ab"
      },
      "source": [
        "list(train.take(1))"
      ],
      "execution_count": 31,
      "outputs": [
        {
          "output_type": "execute_result",
          "data": {
            "text/plain": [
              "[(<tf.Tensor: shape=(163,), dtype=int64, numpy=\n",
              "  array([  62,   18,   41,  604,  927,   65,    3,  644, 7968,   21,   35,\n",
              "         5096,   36,   11,   43, 2948, 5240,  102,   50,  681, 7862, 1244,\n",
              "            3, 3266,   29,  122,  640,    2,   26,   14,  279,  438,   35,\n",
              "           79,  349,  384,   11, 1991,    3,  492,   79,  122,  188,  117,\n",
              "           33, 4047, 4531,   14,   65, 7968,    8, 1819, 3947,    3,   62,\n",
              "           27,    9,   41,  577, 5044, 2629, 2552, 7193, 7961, 3642,    3,\n",
              "           19,  107, 3903,  225,   85,  198,   72,    1, 1512,  738, 2347,\n",
              "          102, 6245,    8,   85,  308,   79, 6936, 7961,   23, 4981, 8044,\n",
              "            3, 6429, 7961, 1141, 1335, 1848, 4848,   55, 3601, 4217, 8050,\n",
              "            2,    5,   59, 3831, 1484, 8040, 7974,  174, 5773,   22, 5240,\n",
              "          102,   18,  247,   26,    4, 3903, 1612, 3902,  291,   11,    4,\n",
              "           27,   13,   18, 4092, 4008, 7961,    6,  119,  213, 2774,    3,\n",
              "           12,  258, 2306,   13,   91,   29,  171,   52,  229,    2, 1245,\n",
              "         5790,  995, 7968,    8,   52, 2948, 5240, 8039, 7968,    8,   74,\n",
              "         1249,    3,   12,  117, 2438, 1369,  192,   39, 7975])>,\n",
              "  <tf.Tensor: shape=(), dtype=int64, numpy=0>)]"
            ]
          },
          "metadata": {},
          "execution_count": 31
        }
      ]
    },
    {
      "cell_type": "code",
      "metadata": {
        "colab": {
          "base_uri": "https://localhost:8080/",
          "height": 103
        },
        "id": "afi-8kRkHR5W",
        "outputId": "1b98c1f4-44b3-4ae3-9442-ddb9bc3b61f0"
      },
      "source": [
        "# convert sample_tokens to text\n",
        "sample_tokens = list(train.take(1))[0][0]\n",
        "sample_label = list(train.take(1))[0][1]\n",
        "encoder.decode(sample_tokens)"
      ],
      "execution_count": 60,
      "outputs": [
        {
          "output_type": "execute_result",
          "data": {
            "application/vnd.google.colaboratory.intrinsic+json": {
              "type": "string"
            },
            "text/plain": [
              "\"This was an absolutely terrible movie. Don't be lured in by Christopher Walken or Michael Ironside. Both are great actors, but this must simply be their worst role in history. Even their great acting could not redeem this movie's ridiculous storyline. This movie is an early nineties US propaganda piece. The most pathetic scenes were those when the Columbian rebels were making their cases for revolutions. Maria Conchita Alonso appeared phony, and her pseudo-love affair with Walken was nothing but a pathetic emotional plug in a movie that was devoid of any real meaning. I am disappointed that there are movies like this, ruining actor's like Christopher Walken's good name. I could barely sit through it.\""
            ]
          },
          "metadata": {},
          "execution_count": 60
        }
      ]
    },
    {
      "cell_type": "code",
      "metadata": {
        "id": "o6Zv42opKuRH"
      },
      "source": [
        ""
      ],
      "execution_count": null,
      "outputs": []
    }
  ]
}