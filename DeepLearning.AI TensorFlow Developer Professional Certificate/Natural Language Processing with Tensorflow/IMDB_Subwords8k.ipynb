{
  "nbformat": 4,
  "nbformat_minor": 0,
  "metadata": {
    "colab": {
      "name": "IMDB_Subwords8k.ipynb",
      "provenance": [],
      "authorship_tag": "ABX9TyPdcRLnXJGAIhsULiehxpBQ",
      "include_colab_link": true
    },
    "kernelspec": {
      "name": "python3",
      "display_name": "Python 3"
    },
    "language_info": {
      "name": "python"
    }
  },
  "cells": [
    {
      "cell_type": "markdown",
      "metadata": {
        "id": "view-in-github",
        "colab_type": "text"
      },
      "source": [
        "<a href=\"https://colab.research.google.com/github/temmyzeus/Tensorflow-Courses/blob/master/DeepLearning.AI%20TensorFlow%20Developer%20Professional%20Certificate/Natural%20Language%20Processing%20with%20Tensorflow/IMDB_Subwords8k.ipynb\" target=\"_parent\"><img src=\"https://colab.research.google.com/assets/colab-badge.svg\" alt=\"Open In Colab\"/></a>"
      ]
    },
    {
      "cell_type": "code",
      "metadata": {
        "id": "m65aO4yhBIT1"
      },
      "source": [
        "import numpy as np\n",
        "import matplotlib.pyplot as plt\n",
        "import tensorflow_datasets as tfds\n",
        "import tensorflow as tf\n",
        "from tensorflow.keras.models import Sequential\n",
        "from tensorflow.keras.layers import Embedding, Dense, GlobalAveragePooling1D"
      ],
      "execution_count": 1,
      "outputs": []
    },
    {
      "cell_type": "code",
      "metadata": {
        "colab": {
          "base_uri": "https://localhost:8080/"
        },
        "id": "9Zr1lnRZCiHx",
        "outputId": "0a21f625-e940-4bcc-e755-e62f7b8c381b"
      },
      "source": [
        "imdb, info = tfds.load(\n",
        "    'imdb_reviews/subwords8k',\n",
        "    with_info=True,\n",
        "    as_supervised=True\n",
        ")"
      ],
      "execution_count": 2,
      "outputs": [
        {
          "output_type": "stream",
          "name": "stderr",
          "text": [
            "WARNING:absl:TFDS datasets with text encoding are deprecated and will be removed in a future version. Instead, you should use the plain text version and tokenize the text using `tensorflow_text` (See: https://www.tensorflow.org/tutorials/tensorflow_text/intro#tfdata_example)\n"
          ]
        }
      ]
    },
    {
      "cell_type": "code",
      "metadata": {
        "id": "FvmnonsJCoqE"
      },
      "source": [
        "train = imdb['train']\n",
        "test = imdb['test']\n",
        "# Get Subword Text Encoder\n",
        "tokenizer = info.features['text'].encoder"
      ],
      "execution_count": 3,
      "outputs": []
    },
    {
      "cell_type": "code",
      "metadata": {
        "colab": {
          "base_uri": "https://localhost:8080/"
        },
        "id": "afi-8kRkHR5W",
        "outputId": "d594adfc-dd5b-48f4-9d80-5e9c7b10b3d4"
      },
      "source": [
        "# convert sample_tokens to text\n",
        "sample_text = 'I\\'m going to be a very good ML Engineer'\n",
        "sample_tokens = tokenizer.encode(sample_text)\n",
        "\n",
        "print(tokenizer.encode(sample_text), end='\\n\\n')\n",
        "print(tokenizer.decode(sample_tokens))"
      ],
      "execution_count": 4,
      "outputs": [
        {
          "output_type": "stream",
          "name": "stdout",
          "text": [
            "[8002, 7968, 111, 215, 7, 35, 4, 67, 74, 8006, 3780, 1844, 1004, 1225, 8043]\n",
            "\n",
            "I'm going to be a very good ML Engineer\n"
          ]
        }
      ]
    },
    {
      "cell_type": "code",
      "metadata": {
        "colab": {
          "base_uri": "https://localhost:8080/",
          "height": 316
        },
        "id": "aQC7vbrTcGiB",
        "outputId": "153988d8-782c-4937-e75f-ec12a70fc1a5"
      },
      "source": [
        "# Getting an Idea of teh distribution of token lengths\n",
        "train_lens = np.array([len(_[0]) for _ in train])\n",
        "print('Min Len :', np.min(train_lens))\n",
        "print('Max Len: ', np.max(train_lens))\n",
        "# Getting a good sense of the middle point, median seems better here\n",
        "print('Median Len', np.median(train_lens))\n",
        "plt.hist(train_lens, bins=30)\n",
        "plt.show()"
      ],
      "execution_count": 5,
      "outputs": [
        {
          "output_type": "stream",
          "name": "stdout",
          "text": [
            "Min Len : 11\n",
            "Max Len:  3944\n",
            "Median Len 253.0\n"
          ]
        },
        {
          "output_type": "display_data",
          "data": {
            "image/png": "[encoded data removed]",
            "text/plain": [
              "<Figure size 432x288 with 1 Axes>"
            ]
          },
          "metadata": {
            "needs_background": "light"
          }
        }
      ]
    },
    {
      "cell_type": "code",
      "metadata": {
        "id": "2AWMNfaIfIok"
      },
      "source": [
        "vocab_size = tokenizer.vocab_size\n",
        "output_dim = 20\n",
        "input_length = 500\n",
        "BATCH_SIZE = 64\n",
        "BUFFER_SIZE = 10000"
      ],
      "execution_count": 15,
      "outputs": []
    },
    {
      "cell_type": "code",
      "metadata": {
        "id": "EuSo3lDIjMyw"
      },
      "source": [
        "train_padded = train.padded_batch(\n",
        "    batch_size=BATCH_SIZE,\n",
        "    padded_shapes=tf.compat.v1.data.get_output_shapes(train)\n",
        ")\n",
        "\n",
        "test_padded = test.padded_batch(\n",
        "    batch_size=BATCH_SIZE,\n",
        "    padded_shapes=tf.compat.v1.data.get_output_shapes(test)\n",
        ")"
      ],
      "execution_count": 61,
      "outputs": []
    },
    {
      "cell_type": "code",
      "metadata": {
        "colab": {
          "base_uri": "https://localhost:8080/"
        },
        "id": "1snCHaTDe7r7",
        "outputId": "511c9ce2-6c4e-42d9-98a2-596e44e1c3ee"
      },
      "source": [
        "train_ds = train.shuffle(buffer_size=BUFFER_SIZE)\n",
        "train_ds.padded_batch"
      ],
      "execution_count": 40,
      "outputs": [
        {
          "output_type": "execute_result",
          "data": {
            "text/plain": [
              "<bound method DatasetV2.padded_batch of <ShuffleDataset shapes: ((None,), ()), types: (tf.int64, tf.int64)>>"
            ]
          },
          "metadata": {},
          "execution_count": 40
        }
      ]
    },
    {
      "cell_type": "code",
      "metadata": {
        "id": "o6Zv42opKuRH",
        "colab": {
          "base_uri": "https://localhost:8080/",
          "height": 129
        },
        "outputId": "848b6f30-25e9-4838-e24d-afdf60714400"
      },
      "source": [
        "model = Seqeuntial([\n",
        "    Embedding(input_dim=vocab_size, output_dim=output_dim, input_dim=input_length) ,\n",
        "    GlobalAveragePooling1D(),\n",
        "    Dense(),\n",
        "    Dense()\n",
        "], name='IMDB CLassifier')"
      ],
      "execution_count": 9,
      "outputs": [
        {
          "output_type": "error",
          "ename": "SyntaxError",
          "evalue": "ignored",
          "traceback": [
            "\u001b[0;36m  File \u001b[0;32m\"<ipython-input-9-7bbd1915ae2e>\"\u001b[0;36m, line \u001b[0;32m2\u001b[0m\n\u001b[0;31m    Embedding(input_dim=vocab_size, output_dim=output_dim, input_dim=input_length) ,\u001b[0m\n\u001b[0m                                                          ^\u001b[0m\n\u001b[0;31mSyntaxError\u001b[0m\u001b[0;31m:\u001b[0m keyword argument repeated\n"
          ]
        }
      ]
    }
  ]
}