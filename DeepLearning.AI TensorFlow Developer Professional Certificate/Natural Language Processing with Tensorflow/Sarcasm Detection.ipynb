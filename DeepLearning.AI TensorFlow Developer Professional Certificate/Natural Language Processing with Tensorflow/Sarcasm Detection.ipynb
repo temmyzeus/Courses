{
 "cells": [
  {
   "cell_type": "code",
   "execution_count": 1,
   "source": [
    "import os\n",
    "import ast\n",
    "from collections import Counter\n",
    "from typing import Tuple, List, Union, Dict\n",
    "\n",
    "import numpy as np\n",
    "import matplotlib.pyplot as plt\n",
    "import tensorflow as tf\n",
    "from tensorflow.keras.preprocessing.text import Tokenizer\n",
    "from tensorflow.keras.preprocessing.sequence import pad_sequences\n",
    "from tensorflow.keras.models import Sequential\n",
    "from tensorflow.keras.layers import Embedding, Dense, GlobalAveragePooling1D\n",
    "from tensorflow.keras.callbacks import EarlyStopping, ModelCheckpoint"
   ],
   "outputs": [],
   "metadata": {}
  },
  {
   "cell_type": "code",
   "execution_count": 2,
   "source": [
    "with open('./Sarcasm_Headlines_Dataset.json', mode='r') as f:\n",
    "    data = f.readlines()\n",
    "\n",
    "article_links: list = []\n",
    "is_sarcastic: list = []\n",
    "headlines: list = []\n",
    "\n",
    "for line in data:\n",
    "    line = ast.literal_eval(line)\n",
    "    article_links.append(line['article_link'])\n",
    "    is_sarcastic.append(line['is_sarcastic'])\n",
    "    headlines.append(line['headline'])"
   ],
   "outputs": [],
   "metadata": {}
  },
  {
   "cell_type": "code",
   "execution_count": 3,
   "source": [
    "# Count Number of Sarcastic Text and Non-Sarcastic Text\n",
    "Counter(is_sarcastic)"
   ],
   "outputs": [
    {
     "output_type": "execute_result",
     "data": {
      "text/plain": [
       "Counter({0: 14985, 1: 11724})"
      ]
     },
     "metadata": {},
     "execution_count": 3
    }
   ],
   "metadata": {}
  },
  {
   "cell_type": "code",
   "execution_count": 4,
   "source": [
    "def split_data(\n",
    "    data: List, \n",
    "    target: Union[int, None] = None, \n",
    "    test_size: Union[int, float]=0.2\n",
    "    ) -> Union[Tuple[Tuple[List, List], Tuple[List, List]], Tuple[List, List]]:\n",
    "    data_len = len(data)\n",
    "    if isinstance(test_size, float):\n",
    "        test_len = int(data_len * test_size)\n",
    "    elif isinstance(test_size, int):\n",
    "        pass\n",
    "\n",
    "    if target:\n",
    "        # Return (X_train, y_train), (X_test, y_test)\n",
    "        return (data[:-test_len], target[:-test_len]), (data[-test_len:], target[-test_len:])\n",
    "    else:\n",
    "        # Return (X_train, X_test)\n",
    "        return (data[:-test_len], data[-test_len:])\n",
    "\n",
    "(train_headlines, train_is_sarcastic), (valid_headlines, valid_is_sarcastic)  = split_data(\n",
    "    headlines, \n",
    "    target=is_sarcastic,\n",
    "    test_size=0.2\n",
    "    )"
   ],
   "outputs": [],
   "metadata": {}
  },
  {
   "cell_type": "code",
   "execution_count": 5,
   "source": [
    "vocab_size: int = 10000\n",
    "oov_token: str = '<UNK>'\n",
    "max_length: int = 40\n",
    "embedding_size: int = 20\n",
    "padding_type = 'post'\n",
    "truncating_type: str = 'post'\n",
    "epochs: int = 20"
   ],
   "outputs": [],
   "metadata": {}
  },
  {
   "cell_type": "code",
   "execution_count": 6,
   "source": [
    "tokenizer = Tokenizer(\n",
    "    num_words=vocab_size,\n",
    "    lower=True,\n",
    "    oov_token=oov_token\n",
    ")\n",
    "tokenizer.fit_on_texts(train_headlines)\n",
    "word_index = tokenizer.word_index\n",
    "\n",
    "train_sequences = tokenizer.texts_to_sequences(train_headlines)\n",
    "valid_sequences = tokenizer.texts_to_sequences(valid_headlines)\n",
    "\n",
    "# Check Maximum Length of Texts\n",
    "# print('Text Max Len:', max([len(_) for _ in train_sequences]))\n",
    "# Should be ~40\n",
    "\n",
    "train_padded = pad_sequences(\n",
    "    train_sequences,\n",
    "    maxlen=max_length,\n",
    "    padding=padding_type,\n",
    "    truncating=truncating_type\n",
    "    )\n",
    "valid_padded = pad_sequences(\n",
    "    valid_sequences,\n",
    "    maxlen=max_length,\n",
    "    padding=padding_type,\n",
    "    truncating=truncating_type\n",
    "    )"
   ],
   "outputs": [],
   "metadata": {}
  },
  {
   "cell_type": "code",
   "execution_count": 7,
   "source": [
    "train_is_sarcastic = np.array(train_is_sarcastic)\n",
    "valid_is_sarcastic = np.array(valid_is_sarcastic)"
   ],
   "outputs": [],
   "metadata": {}
  },
  {
   "cell_type": "code",
   "execution_count": 8,
   "source": [
    "model = Sequential([\n",
    "    Embedding(input_dim=vocab_size, output_dim=embedding_size, input_length=max_length),\n",
    "    GlobalAveragePooling1D(),\n",
    "    Dense(1, activation='sigmoid')\n",
    "], name='Sentiment_Detector')\n",
    "\n",
    "model.compile(\n",
    "    optimizer='rmsprop',\n",
    "    loss='binary_crossentropy', \n",
    "    metrics=['accuracy']\n",
    ")\n",
    "\n",
    "early_stopping = EarlyStopping(\n",
    "    monitor='val_loss',\n",
    "    patience=5\n",
    ")\n",
    "model_checkpt = ModelCheckpoint(\n",
    "    filepath='.'\n",
    ")\n",
    "\n",
    "history = model.fit(\n",
    "    x=train_padded,\n",
    "    y=train_is_sarcastic, \n",
    "    batch_size=32,\n",
    "    epochs=epochs,\n",
    "    validation_data=(valid_padded, valid_is_sarcastic),\n",
    "    callbacks=[early_stopping, model_checkpt]\n",
    ")\n",
    "\n",
    "def plot_loss_acc(history: Union[tf.keras.callbacks.History, Dict]):\n",
    "    if isinstance(history, tf.keras.callbacks.History):\n",
    "        history = history.history\n",
    "    elif isinstance(history, dict):\n",
    "        pass\n",
    "    else:\n",
    "        raise TypeError\n",
    "\n",
    "    epochs_axis = list(map(int, list(range(1, len(history['loss'])+1))))\n",
    "    plt.figure(figsize=(15, 5))\n",
    "    ax1 = plt.subplot(1, 2, 1)\n",
    "    ax2 = plt.subplot(1, 2, 2)\n",
    "    ax1.plot(epochs_axis, history['loss'], color='orange', label='Train Loss')\n",
    "    ax1.plot(epochs_axis, history['val_loss'], color='b', label='Val Loss')\n",
    "    ax1.set_xticks(ticks=epochs_axis)\n",
    "    ax1.legend()\n",
    "\n",
    "    ax2.plot(epochs_axis, history['accuracy'], color='orange', label='Train Accuracy')\n",
    "    ax2.plot(epochs_axis, history['val_accuracy'], color='b', label='Val Accuracy')\n",
    "    ax2.set_xticks(ticks=epochs_axis)\n",
    "    ax2.legend()\n",
    "    plt.show()\n",
    "\n",
    "plot_loss_acc(history)"
   ],
   "outputs": [
    {
     "output_type": "stream",
     "name": "stdout",
     "text": [
      "Epoch 1/20\n",
      "668/668 [==============================] - 2s 2ms/step - loss: 0.6629 - accuracy: 0.5794 - val_loss: 0.6248 - val_accuracy: 0.6504\n",
      "INFO:tensorflow:Assets written to: ./assets\n",
      "Epoch 2/20\n",
      "668/668 [==============================] - 2s 3ms/step - loss: 0.5711 - accuracy: 0.7529 - val_loss: 0.5222 - val_accuracy: 0.7852\n",
      "INFO:tensorflow:Assets written to: ./assets\n",
      "Epoch 3/20\n",
      "668/668 [==============================] - 3s 4ms/step - loss: 0.4726 - accuracy: 0.8164 - val_loss: 0.4500 - val_accuracy: 0.8124\n",
      "INFO:tensorflow:Assets written to: ./assets\n",
      "Epoch 4/20\n",
      "668/668 [==============================] - 3s 4ms/step - loss: 0.4113 - accuracy: 0.8355 - val_loss: 0.4131 - val_accuracy: 0.8272\n",
      "INFO:tensorflow:Assets written to: ./assets\n",
      "Epoch 5/20\n",
      "668/668 [==============================] - 3s 4ms/step - loss: 0.3744 - accuracy: 0.8472 - val_loss: 0.3926 - val_accuracy: 0.8334\n",
      "INFO:tensorflow:Assets written to: ./assets\n",
      "Epoch 6/20\n",
      "668/668 [==============================] - 3s 4ms/step - loss: 0.3490 - accuracy: 0.8562 - val_loss: 0.3800 - val_accuracy: 0.8384\n",
      "INFO:tensorflow:Assets written to: ./assets\n",
      "Epoch 7/20\n",
      "668/668 [==============================] - 2s 3ms/step - loss: 0.3298 - accuracy: 0.8655 - val_loss: 0.3717 - val_accuracy: 0.8418\n",
      "INFO:tensorflow:Assets written to: ./assets\n",
      "Epoch 8/20\n",
      "668/668 [==============================] - 2s 4ms/step - loss: 0.3148 - accuracy: 0.8688 - val_loss: 0.3658 - val_accuracy: 0.8461\n",
      "INFO:tensorflow:Assets written to: ./assets\n",
      "Epoch 9/20\n",
      "668/668 [==============================] - 3s 4ms/step - loss: 0.3027 - accuracy: 0.8752 - val_loss: 0.3622 - val_accuracy: 0.8470\n",
      "INFO:tensorflow:Assets written to: ./assets\n",
      "Epoch 10/20\n",
      "668/668 [==============================] - 2s 4ms/step - loss: 0.2922 - accuracy: 0.8791 - val_loss: 0.3609 - val_accuracy: 0.8483\n",
      "INFO:tensorflow:Assets written to: ./assets\n",
      "Epoch 11/20\n",
      "668/668 [==============================] - 2s 3ms/step - loss: 0.2841 - accuracy: 0.8826 - val_loss: 0.3594 - val_accuracy: 0.8489\n",
      "INFO:tensorflow:Assets written to: ./assets\n",
      "Epoch 12/20\n",
      "668/668 [==============================] - 2s 2ms/step - loss: 0.2776 - accuracy: 0.8851 - val_loss: 0.3588 - val_accuracy: 0.8508\n",
      "INFO:tensorflow:Assets written to: ./assets\n",
      "Epoch 13/20\n",
      "668/668 [==============================] - 2s 3ms/step - loss: 0.2713 - accuracy: 0.8877 - val_loss: 0.3596 - val_accuracy: 0.8519\n",
      "INFO:tensorflow:Assets written to: ./assets\n",
      "Epoch 14/20\n",
      "668/668 [==============================] - 2s 4ms/step - loss: 0.2666 - accuracy: 0.8919 - val_loss: 0.3595 - val_accuracy: 0.8523\n",
      "INFO:tensorflow:Assets written to: ./assets\n",
      "Epoch 15/20\n",
      "668/668 [==============================] - 2s 3ms/step - loss: 0.2619 - accuracy: 0.8938 - val_loss: 0.3601 - val_accuracy: 0.8513\n",
      "INFO:tensorflow:Assets written to: ./assets\n",
      "Epoch 16/20\n",
      "668/668 [==============================] - 3s 5ms/step - loss: 0.2579 - accuracy: 0.8952 - val_loss: 0.3610 - val_accuracy: 0.8528\n",
      "INFO:tensorflow:Assets written to: ./assets\n",
      "Epoch 17/20\n",
      "668/668 [==============================] - 2s 3ms/step - loss: 0.2543 - accuracy: 0.8977 - val_loss: 0.3617 - val_accuracy: 0.8526\n",
      "INFO:tensorflow:Assets written to: ./assets\n"
     ]
    },
    {
     "output_type": "display_data",
     "data": {
      "image/png": "[encoded data removed]",
      "text/plain": [
       "<Figure size 1080x360 with 2 Axes>"
      ]
     },
     "metadata": {
      "needs_background": "light"
     }
    }
   ],
   "metadata": {}
  }
 ],
 "metadata": {
  "kernelspec": {
   "name": "python3",
   "display_name": "Python 3.9.1 64-bit ('base': conda)"
  },
  "language_info": {
   "codemirror_mode": {
    "name": "ipython",
    "version": 3
   },
   "file_extension": ".py",
   "mimetype": "text/x-python",
   "name": "python",
   "nbconvert_exporter": "python",
   "pygments_lexer": "ipython3",
   "version": "3.9.1"
  },
  "interpreter": {
   "hash": "f54a511d1e48f5c3bbfb501b603e2b7af0cbd33b4d80ec757e5a422ebb52b032"
  }
 },
 "nbformat": 4,
 "nbformat_minor": 5
}